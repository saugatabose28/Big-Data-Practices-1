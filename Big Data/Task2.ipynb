{
 "cells": [
  {
   "cell_type": "code",
   "execution_count": 1,
   "id": "6d8b7a21",
   "metadata": {
    "tags": []
   },
   "outputs": [
    {
     "ename": "NameError",
     "evalue": "name 'read_dataset' is not defined",
     "output_type": "error",
     "traceback": [
      "\u001b[0;31m---------------------------------------------------------------------------\u001b[0m",
      "\u001b[0;31mNameError\u001b[0m                                 Traceback (most recent call last)",
      "\u001b[0;32m/tmp/ipykernel_260/4244988375.py\u001b[0m in \u001b[0;36m<cell line: 18>\u001b[0;34m()\u001b[0m\n\u001b[1;32m     20\u001b[0m     \u001b[0moutput_file\u001b[0m \u001b[0;34m=\u001b[0m \u001b[0;34m'sequential_scan_skyline_output.txt'\u001b[0m\u001b[0;34m\u001b[0m\u001b[0;34m\u001b[0m\u001b[0m\n\u001b[1;32m     21\u001b[0m \u001b[0;34m\u001b[0m\u001b[0m\n\u001b[0;32m---> 22\u001b[0;31m     \u001b[0mdataset\u001b[0m \u001b[0;34m=\u001b[0m \u001b[0mread_dataset\u001b[0m\u001b[0;34m(\u001b[0m\u001b[0mdataset_file\u001b[0m\u001b[0;34m)\u001b[0m\u001b[0;34m\u001b[0m\u001b[0;34m\u001b[0m\u001b[0m\n\u001b[0m\u001b[1;32m     23\u001b[0m \u001b[0;34m\u001b[0m\u001b[0m\n\u001b[1;32m     24\u001b[0m     \u001b[0mskyline\u001b[0m\u001b[0;34m,\u001b[0m \u001b[0mtotal_time\u001b[0m \u001b[0;34m=\u001b[0m \u001b[0msequential_scan_skyline\u001b[0m\u001b[0;34m(\u001b[0m\u001b[0mdataset\u001b[0m\u001b[0;34m)\u001b[0m\u001b[0;34m\u001b[0m\u001b[0;34m\u001b[0m\u001b[0m\n",
      "\u001b[0;31mNameError\u001b[0m: name 'read_dataset' is not defined"
     ]
    }
   ],
   "source": [
    "def dominates(p1, p2):\n",
    "    return (p1['x'] <= p2['x'] and p1['y'] >= p2['y']) and (p1['x'] < p2['x'] or p1['y'] > p2['y'])\n",
    "\n",
    "def sequential_scan_skyline(dataset):\n",
    "    skyline = []\n",
    "    start_time = time.time()\n",
    "    for point in dataset:\n",
    "        dominated = False\n",
    "        for s_point in skyline:\n",
    "            if dominates(s_point, point):\n",
    "                dominated = True\n",
    "                break\n",
    "        if not dominated:\n",
    "            skyline = [s_point for s_point in skyline if not dominates(point, s_point)]\n",
    "            skyline.append(point)\n",
    "    total_time = time.time() - start_time\n",
    "    return skyline, total_time\n",
    "if __name__ == '__main__':\n",
    "    dataset_file = 'city1.txt'\n",
    "    output_file = 'sequential_scan_skyline_output.txt'\n",
    "\n",
    "    dataset = read_dataset(dataset_file)\n",
    "\n",
    "    skyline, total_time = sequential_scan_skyline(dataset)\n",
    "\n",
    "    with open(output_file, 'w') as file:\n",
    "        for point in skyline:\n",
    "            file.write(f\"id={point['id']}, x={point['x']}, y={point['y']}\\n\")\n",
    "        file.write(f\"Total Time: {total_time:.4f} seconds\\n\")\n"
   ]
  },
  {
   "cell_type": "code",
   "execution_count": null,
   "id": "5e0fac75",
   "metadata": {},
   "outputs": [],
   "source": [
    "def bbs_algorithm_skyline(dataset):\n",
    "    def mbr_dominance(mbr1, mbr2):\n",
    "        return (mbr1[0] <= mbr2[0] and mbr1[1] >= mbr2[1]) and (mbr1[0] < mbr2[0] or mbr1[1] > mbr2[1])\n",
    "\n",
    "    rtree = RTree()\n",
    "    for point in dataset:\n",
    "        rtree.insert(point)\n",
    "\n",
    "    pq = []\n",
    "    skyline = []\n",
    "    heapq.heappush(pq, (0, rtree.root))\n",
    "\n",
    "    start_time = time.time()\n",
    "    while pq:\n",
    "        _, node = heapq.heappop(pq)\n",
    "        if node.is_leaf:\n",
    "            for point in node.points:\n",
    "                if not any(dominates(s_point, point) for s_point in skyline):\n",
    "                    skyline = [s_point for s_point in skyline if not dominates(point, s_point)]\n",
    "                    skyline.append(point)\n",
    "        else:\n",
    "            for child in node.children:\n",
    "                if not any(mbr_dominance(s_point['mbr'], child.mbr) for s_point in skyline):\n",
    "                    heapq.heappush(pq, (0, child))\n",
    "    total_time = time.time() - start_time\n",
    "    return skyline, total_time\n",
    "\n",
    "if __name__ == '__main__':\n",
    "    dataset_file = 'datasets/city1.txt'\n",
    "    output_file = 'output/bbs_algorithm_skyline_output.txt'\n",
    "\n",
    "    dataset = read_dataset(dataset_file)\n",
    "\n",
    "    skyline, total_time = bbs_algorithm_skyline(dataset)\n",
    "\n",
    "    with open(output_file, 'w') as file:\n",
    "        for point in skyline:\n",
    "            file.write(f\"id={point['id']}, x={point['x']}, y={point['y']}\\n\")\n",
    "        file.write(f\"Total Time: {total_time:.4f} seconds\\n\")\n"
   ]
  },
  {
   "cell_type": "code",
   "execution_count": null,
   "id": "bd5e43ae",
   "metadata": {},
   "outputs": [],
   "source": [
    "def dc_bbs_algorithm_skyline(dataset):\n",
    "    left_dataset, right_dataset = divide_dataset(dataset, axis=0)\n",
    "\n",
    "    left_rtree = RTree()\n",
    "    for point in left_dataset:\n",
    "        left_rtree.insert(point)\n",
    "\n",
    "    right_rtree = RTree()\n",
    "    for point in right_dataset:\n",
    "        right_rtree.insert(point)\n",
    "\n",
    "    def dc_skyline(rtree):\n",
    "        return bbs_algorithm_skyline([rtree])\n",
    "\n",
    "    left_skyline, _ = dc_skyline(left_rtree)\n",
    "    right_skyline, _ = dc_skyline(right_rtree)\n",
    "\n",
    "    combined_skyline = left_skyline + right_skyline\n",
    "    final_skyline, total_time = sequential_scan_skyline(combined_skyline)\n",
    "\n",
    "    return final_skyline, total_time\n",
    "\n",
    "if __name__ == '__main__':\n",
    "    dataset_file = 'datasets/city1.txt'\n",
    "    output_file = 'output/dc_bbs_algorithm_skyline_output.txt'\n",
    "\n",
    "    dataset = read_dataset(dataset_file)\n",
    "\n",
    "    skyline, total_time = dc_bbs_algorithm_skyline(dataset)\n",
    "\n",
    "    with open(output_file, 'w') as file:\n",
    "        for point in skyline:\n",
    "            file.write(f\"id={point['id']}, x={point['x']}, y={point['y']}\\n\")\n",
    "        file.write(f\"Total Time: {total_time:.4f} seconds\\n\")\n"
   ]
  }
 ],
 "metadata": {
  "kernelspec": {
   "display_name": "default:Python",
   "language": "python",
   "name": "conda-env-default-py"
  },
  "language_info": {
   "codemirror_mode": {
    "name": "ipython",
    "version": 3
   },
   "file_extension": ".py",
   "mimetype": "text/x-python",
   "name": "python",
   "nbconvert_exporter": "python",
   "pygments_lexer": "ipython3",
   "version": "3.9.16"
  }
 },
 "nbformat": 4,
 "nbformat_minor": 5
}
