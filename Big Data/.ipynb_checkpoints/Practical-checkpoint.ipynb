{
 "cells": [
  {
   "attachments": {},
   "cell_type": "markdown",
   "metadata": {},
   "source": [
    "# Practical Exerecise 1: Import data points into an R-Tree"
   ]
  },
  {
   "attachments": {},
   "cell_type": "markdown",
   "metadata": {},
   "source": [
    "### Reuqirements:\n",
    "- You do not need to consider the lower bound and upper bound at the current stage.\n",
    "- Print out the MBR of the root node (x1, x2, y1, y2).\n",
    "- You could create a “Node” class to build up the basic structure of a node, and an “R-Tree” class to add data points and update MBRs for the nodes.\n"
   ]
  },
  {
   "attachments": {},
   "cell_type": "markdown",
   "metadata": {},
   "source": [
    "### Proerties of the R-Tree for exercise 1:\n",
    "1. number of child nodes: [0, positive infinity]; \n",
    "2. Create a \"Node\" class to save MBR and nodes in each rectangle; \n",
    "3. Create a \"RTree\" class to store all rectangles based on the \"Node\" class."
   ]
  },
  {
   "attachments": {},
   "cell_type": "markdown",
   "metadata": {},
   "source": [
    "### 1. Define Node class"
   ]
  },
  {
   "attachments": {},
   "cell_type": "markdown",
   "metadata": {},
   "source": [
    "### Properties of nodes in RTree:\n",
    "1. node id\n",
    "2. child nodes\n",
    "3. data points\n",
    "4. parent node\n",
    "5. MBR of the node, we can use the top left point (x1, y1) and the bottom right point (x2, y2) to specify the MBR"
   ]
  },
  {
   "cell_type": "code",
   "execution_count": null,
   "metadata": {},
   "outputs": [],
   "source": [
    "class Node():\n",
    "    def __init__(self):\n",
    "        self.id = \n",
    "        self.child_nodes = \n",
    "        self.data_points = \n",
    "        self.parent =\n",
    "        self.MBR = "
   ]
  },
  {
   "attachments": {},
   "cell_type": "markdown",
   "metadata": {},
   "source": [
    "### 2. Define RTree class\n",
    "for this problem, we insert points into the root node, the input is root node and a single data point\n",
    "\n",
    "2 steps of the insert function:\n",
    "1. add the point into root.data_points\n",
    "2. update root.MBR"
   ]
  },
  {
   "cell_type": "code",
   "execution_count": null,
   "metadata": {},
   "outputs": [],
   "source": [
    "class RTree():\n",
    "    def __init__(self):\n",
    "        self.root = Node()\n",
    "\n",
    "    def insert(self, root, point):\n",
    "        pass\n"
   ]
  },
  {
   "attachments": {},
   "cell_type": "markdown",
   "metadata": {},
   "source": [
    "### 3. Import data points into the RTree\n",
    "1. Read the file and save datapoints\n",
    "2. build R-Tree and import the datapoints into the tree"
   ]
  },
  {
   "cell_type": "code",
   "execution_count": null,
   "metadata": {},
   "outputs": [],
   "source": [
    "points = []\n",
    "\n",
    "with open(\"dataset_test_v2.txt\", 'r') as data:\n",
    "    for line in data.readlines():\n",
    "        x = line.split()[1]\n",
    "        y = line.split()[2]\n",
    "        points.append({'x': int(x), 'y': int(y)})\n",
    "\n",
    "rtree = RTree()\n",
    "\n",
    "for point in points:\n",
    "    rtree.insert(rtree.root, point)\n",
    "\n",
    "print(rtree.root.MBR)"
   ]
  },
  {
   "attachments": {},
   "cell_type": "markdown",
   "metadata": {},
   "source": [
    "# Practical Exerecise 2: Create an R-Tree structure to index the 10 data points"
   ]
  },
  {
   "attachments": {},
   "cell_type": "markdown",
   "metadata": {},
   "source": [
    "### Reuqirements:\n",
    "- Suppose “B=4”, you need to consider the lower bound and upper bound in this exercise.\n",
    "- A function “Choose Subtree” should be devised to decide where should we insert a new data point.\n",
    "- A function “Handel Overflow” should be devised, where the perimeter sum should be considered in splitting a node or an MBR.\n",
    "- In the splitting, we need to consider the perimeter sum of several combinations of the splits"
   ]
  },
  {
   "attachments": {},
   "cell_type": "markdown",
   "metadata": {},
   "source": [
    "### Proerties of the R-Tree:\n",
    "1. B=4, each node in the tree has at least 2 childs and at most 4 childs\n",
    "2. Create a \"Node\" class to save MBR and nodes in each rectangle; \n",
    "3. Create a \"RTree\" class to store all rectangles based on the \"Node\" class.\n",
    "4. Define “Choose Subtree” function to decide where should we insert a new data point.\n",
    "5. Define “Handel Overflow” function to handle overflow situation. The perimeter sum should be considered in splitting a node or an MBR"
   ]
  },
  {
   "attachments": {},
   "cell_type": "markdown",
   "metadata": {},
   "source": [
    "### 1. Define Node class"
   ]
  },
  {
   "attachments": {},
   "cell_type": "markdown",
   "metadata": {},
   "source": [
    "### functions of the node class:\n",
    "1. calculate perimeter of the MBR of the node\n",
    "2. check whether the node is overflow\n",
    "3. check whether the node is the root node\n",
    "4. check whether the node is a leaf node"
   ]
  },
  {
   "cell_type": "code",
   "execution_count": null,
   "metadata": {},
   "outputs": [],
   "source": [
    "class Node(object): \n",
    "    def __init__(self):\n",
    "        self.id = 0\n",
    "        self.child_nodes = [] #for non-leaf node, a list to store nodes\n",
    "        self.data_points = [] #for leaf node, a list to store data points\n",
    "        self.parent = None\n",
    "        self.MBR = {\n",
    "            'x1': -1,\n",
    "            'y1': -1,\n",
    "            'x2': -1,\n",
    "            'y2': -1,\n",
    "        }\n",
    "    def perimeter(self):\n",
    "        return #perimeter of the MBR\n",
    "\n",
    "    def is_overflow(self):\n",
    "        return #return True if the node is overflow, return False if the node is not overflow\n",
    "\n",
    "    def is_root(self):\n",
    "        return #return True if the node is a root node, return False if the node is not a root node\n",
    "\n",
    "    def is_leaf(self):\n",
    "        return #return True if the node is a leaf node, return False if the node is not a leaf node"
   ]
  },
  {
   "attachments": {},
   "cell_type": "markdown",
   "metadata": {},
   "source": [
    "### 2. Define RTree class"
   ]
  },
  {
   "attachments": {},
   "cell_type": "markdown",
   "metadata": {},
   "source": [
    "### functions of the RTree class:\n",
    "1. insert function to insert node into the R-tree\n",
    "2. handle_overflow function to deal with overflow"
   ]
  },
  {
   "cell_type": "code",
   "execution_count": null,
   "metadata": {},
   "outputs": [],
   "source": [
    "B = 4\n",
    "import sys\n",
    "import math\n",
    "\n",
    "class RTree(object): #R tree class\n",
    "    def __init__(self):\n",
    "        self.root = Node() #Create a root\n",
    "\n",
    "    def insert(self, node, point): # insert p(data point) to u (MBR)\n",
    "        if node.is_leaf(): \n",
    "            self.add_data_point(node, point) #add the data point and update the corresponding MBR\n",
    "            if node.is_overflow():\n",
    "                self.handle_overflow(node) #handel overflow for leaf nodes\n",
    "        else:\n",
    "            sub_node = self.choose_subtree(node, point) #choose a subtree to insert the data point to miminize the perimeter sum\n",
    "            self.insert(sub_node, point) #keep continue to check the next layer recursively\n",
    "            self.update_mbr(sub_node) #update the MBR for inserting the data point\n",
    "\n",
    "    def add_data_point(self, node, data_point): #add data points and update the the MBRS\n",
    "        pass\n",
    "        # 1. add the point into node.data_points\n",
    "        # 2. update node.MBR\n",
    "\n",
    "    def add_child(self, node, child):\n",
    "        # 1. add the child into node.child_nodes\n",
    "        # 2. set the node as the parent of the child\n",
    "        # 3. update node.MBR\n",
    "        if child.MBR['x1'] < node.MBR['x1']:\n",
    "            pass\n",
    "\n",
    "    # return the child whose MBR requires the minimum increase in perimeter to cover p\n",
    "\n",
    "    def handle_overflow(self, node):\n",
    "        node1, node2 = self.split(node) #u1 u2 are the two splits returned by the function \"split\"\n",
    "        # if u is root, create a new root with s1 and s2 as its' children\n",
    "        if node.is_root():\n",
    "            new_root = Node()\n",
    "            self.add_child(new_root, node1)\n",
    "            self.add_child(new_root, node2)\n",
    "            self.root = new_root\n",
    "            self.update_mbr(new_root)\n",
    "        # if u is not root, delete u, and set s1 and s2 as u's parent's new children\n",
    "        else:\n",
    "            parent = node.parent\n",
    "            # copy the information of s1 into u\n",
    "            parent.child_nodes.remove(node)\n",
    "            self.add_child(parent, node1) #link the two splits and update the corresponding MBR\n",
    "            self.add_child(parent, node2)\n",
    "            if parent.is_overflow(): #check the parent node recursively\n",
    "                self.handle_overflow(parent)\n",
    "\n",
    "\n",
    "    def choose_subtree(self, node, point): \n",
    "        if node.is_leaf(): #find the leaf and insert the data point\n",
    "            return node\n",
    "        else:\n",
    "            min_increase = sys.maxsize #set an initial value\n",
    "            best_child = None\n",
    "            for child in node.child_nodes: #check each child to find the best node to insert the point \n",
    "                if min_increase > self.peri_increase(child, point):\n",
    "                    min_increase = self.peri_increase(child, point)\n",
    "                    best_child = child\n",
    "            return best_child\n",
    "\n",
    "    def peri_increase(self, node, p): # calculate the increase of the perimeter after inserting the new data point\n",
    "        # new perimeter - original perimeter = increase of perimeter\n",
    "        return # perimeter incresement\n",
    "            \n",
    "    def split(self, u):\n",
    "        # split u into s1 and s2\n",
    "        best_s1 = Node()\n",
    "        best_s2 = Node()\n",
    "        best_perimeter = sys.maxsize\n",
    "        # u is a leaf node\n",
    "        if u.is_leaf():\n",
    "            m = u.data_points.__len__()\n",
    "            # create two different kinds of divides\n",
    "            divides = [sorted(u.data_points, key=lambda data_point: data_point['x']),\n",
    "                       sorted(u.data_points, key=lambda data_point: data_point['y'])] #sorting the points based on X dimension and Y dimension\n",
    "            for divide in divides:\n",
    "                for i in range(math.ceil(0.4 * B), m - math.ceil(0.4 * B) + 1): #check the combinations to find a near-optimal one\n",
    "                    s1 = Node()\n",
    "                    s1.data_points = divide[0: i]\n",
    "                    self.update_mbr(s1)\n",
    "                    s2 = Node()\n",
    "                    s2.data_points = divide[i: divide.__len__()]\n",
    "                    self.update_mbr(s2)\n",
    "                    if best_perimeter > s1.perimeter() + s2.perimeter(): \n",
    "                        best_perimeter = s1.perimeter() + s2.perimeter()\n",
    "                        best_s1 = s1\n",
    "                        best_s2 = s2\n",
    "\n",
    "        # u is a internal node\n",
    "        else:\n",
    "            # create four different kinds of divides\n",
    "            m = u.child_nodes.__len__()\n",
    "            divides = [sorted(u.child_nodes, key=lambda child_node: child_node.MBR['x1']), #sorting based on MBRs\n",
    "                       sorted(u.child_nodes, key=lambda child_node: child_node.MBR['x2']),\n",
    "                       sorted(u.child_nodes, key=lambda child_node: child_node.MBR['y1']),\n",
    "                       sorted(u.child_nodes, key=lambda child_node: child_node.MBR['y2'])]\n",
    "            for divide in divides:\n",
    "                for i in range(math.ceil(0.4 * B), m - math.ceil(0.4 * B) + 1): #check the combinations\n",
    "                    s1 = Node()\n",
    "                    s1.child_nodes = divide[0: i]\n",
    "                    self.update_mbr(s1)\n",
    "                    s2 = Node()\n",
    "                    s2.child_nodes = divide[i: divide.__len__()]\n",
    "                    self.update_mbr(s2)\n",
    "                    if best_perimeter > s1.perimeter() + s2.perimeter():\n",
    "                        best_perimeter = s1.perimeter() + s2.perimeter()\n",
    "                        best_s1 = s1\n",
    "                        best_s2 = s2\n",
    "\n",
    "        for child in best_s1.child_nodes:\n",
    "            child.parent = best_s1\n",
    "        for child in best_s2.child_nodes:\n",
    "            child.parent = best_s2\n",
    "\n",
    "        return best_s1, best_s2\n",
    "\n",
    "        \n",
    "    def update_mbr(self, node): #update MBRs when forming a new MBR. It is used in checking the combinations and update the root\n",
    "        if node.is_leaf(): #compare points in the node\n",
    "            pass\n",
    "        else:  #compare MBR values of node's childs\n",
    "            pass\n",
    "\n",
    "        #update MBR\n",
    "        new_mbr = {\n",
    "            'x1': \n",
    "            'x2': \n",
    "            'y1': \n",
    "            'y2': \n",
    "        }\n",
    "        node.MBR = new_mbr"
   ]
  },
  {
   "attachments": {},
   "cell_type": "markdown",
   "metadata": {},
   "source": [
    "### 3. Import data points into the RTree\n",
    "1. Read the file and save datapoints\n",
    "2. build R-Tree and import the datapoints into the tree"
   ]
  },
  {
   "cell_type": "code",
   "execution_count": null,
   "metadata": {},
   "outputs": [],
   "source": [
    "points = []\n",
    "n=0\n",
    "with open(\"dataset_test_v2.txt\", 'r') as dataset:\n",
    "    for data in dataset.readlines():\n",
    "        data = data.split()\n",
    "        points.append({\n",
    "            'x': int(data[1]),\n",
    "            'y': int(data[2])\n",
    "                })\n",
    "        print (\"x=\", (points[n]['x']), \"y=\", (points[n]['y']))\n",
    "\n",
    "# build R-Tree\n",
    "rtree = RTree()\n",
    "\n",
    "print(\"build R-Tree: \")\n",
    "print(\"\\n\")\n",
    "\n",
    "for point in points: #insert data points from the root one by one \n",
    "    rtree.insert(rtree.root, point) \n",
    "\n",
    "print (\"This is the object of the R-Tree\", rtree)\n",
    "print (\"This is the object of the root\", rtree.root)\n",
    "print (\"This is the MBR of the root\", rtree.root.MBR)\n",
    "print (\"The are the objects of the child nodes of the root\", rtree.root.child_nodes)\n",
    "print (\"\\n\")\n",
    "\n",
    "for childnode in rtree.root.child_nodes:\n",
    "    print (childnode)\n",
    "    print (\"The MBR is\", childnode.MBR)\n",
    "    if childnode.is_leaf():\n",
    "        print (\"This is a leaf node\")\n",
    "        print (\"The data points included in this leaf node are\", childnode.data_points)\n",
    "    print (\"\\n\")"
   ]
  }
 ],
 "metadata": {
  "kernelspec": {
   "display_name": "Python 3.8.8 ('base')",
   "language": "python",
   "name": "python3"
  },
  "language_info": {
   "codemirror_mode": {
    "name": "ipython",
    "version": 3
   },
   "file_extension": ".py",
   "mimetype": "text/x-python",
   "name": "python",
   "nbconvert_exporter": "python",
   "pygments_lexer": "ipython3",
   "version": "3.8.8"
  },
  "orig_nbformat": 4,
  "vscode": {
   "interpreter": {
    "hash": "b09ec625f77bf4fd762565a912b97636504ad6ec901eb2d0f4cf5a7de23e1ee5"
   }
  }
 },
 "nbformat": 4,
 "nbformat_minor": 2
}
